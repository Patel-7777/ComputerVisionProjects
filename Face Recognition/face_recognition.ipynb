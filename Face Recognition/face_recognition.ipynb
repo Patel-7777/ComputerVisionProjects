{
 "cells": [
  {
   "cell_type": "code",
   "execution_count": null,
   "metadata": {},
   "outputs": [],
   "source": [
    "import cv2\n",
    "import numpy as np\n",
    "import face_recognition\n",
    "import os"
   ]
  },
  {
   "cell_type": "code",
   "execution_count": null,
   "metadata": {},
   "outputs": [],
   "source": [
    "path = './images/Dataset'\n",
    "images=[]\n",
    "classNames=[]\n",
    "mylist=os.listdir(path)[1:]\n",
    "print(mylist)\n",
    "\n",
    "for cls in mylist:\n",
    "    curImg=cv2.imread(f'{path}/{cls}')\n",
    "    images.append(curImg)\n",
    "    classNames.append(os.path.splitext(cls)[0])\n",
    "    \n",
    "print(classNames)"
   ]
  },
  {
   "cell_type": "code",
   "execution_count": null,
   "metadata": {},
   "outputs": [],
   "source": [
    "def findEncodings(images):\n",
    "    encodeList=[]\n",
    "    for img in images:\n",
    "        img=cv2.cvtColor(img,cv2.COLOR_BGR2RGB)\n",
    "        encode=face_recognition.face_encodings(img)[0]\n",
    "        encodeList.append(encode)\n",
    "    return encodeList\n",
    "\n",
    "encodeListKnown=findEncodings(images)\n",
    "print(\"Encoding complete!\")"
   ]
  },
  {
   "cell_type": "code",
   "execution_count": null,
   "metadata": {},
   "outputs": [],
   "source": [
    "cap=cv2.VideoCapture(0)\n",
    "\n",
    "while True:\n",
    "    res,img=cap.read()\n",
    "    imgSmall=cv2.resize(img,(0,0),None,0.25,0.25)\n",
    "    imgRGB=cv2.cvtColor(imgSmall,cv2.COLOR_BGR2RGB)\n",
    "    \n",
    "    facesCurFrame= face_recognition.face_locations(imgRGB)\n",
    "    encodeCurFrame=face_recognition.face_encodings(imgRGB,facesCurFrame)\n",
    "    \n",
    "    for encodeFace,FaceLoc in zip(encodeCurFrame,facesCurFrame):\n",
    "        matches=face_recognition.compare_faces(encodeListKnown,encodeFace)\n",
    "        faceDis=face_recognition.face_distance(encodeListKnown,encodeFace)\n",
    "        print(faceDis)\n",
    "        name='UNKNOWN'\n",
    "        matchIndex=np.argmin(faceDis)\n",
    "        \n",
    "        if matches[matchIndex]:\n",
    "            print(f'index:{matchIndex}')\n",
    "            name=classNames[matchIndex].upper()\n",
    "            print(name)\n",
    "        y1,x2,y2,x1=FaceLoc\n",
    "        y1,x2,y2,x1=y1*4,x2*4,y2*4,x1*4\n",
    "        cv2.rectangle(img,(x1,y1),(x2,y2),(0,255,0),2)\n",
    "        cv2.rectangle(img,(x1,y2-35),(x2,y2),(0,255,0),cv2.FILLED)\n",
    "        cv2.putText(img,name,(x1+6,y2-6),cv2.FONT_HERSHEY_COMPLEX,1,(255,255,255),2)\n",
    "  \n",
    "    cv2.imshow('frame',img)\n",
    "    if cv2.waitKey(1) & 0xFF==ord('q'):\n",
    "        break\n",
    "    \n",
    "    \n",
    "cv2.destroyAllWindows()\n",
    "cap.release()"
   ]
  },
  {
   "cell_type": "code",
   "execution_count": null,
   "metadata": {},
   "outputs": [],
   "source": []
  }
 ],
 "metadata": {
  "kernelspec": {
   "display_name": "Python 3",
   "language": "python",
   "name": "python3"
  },
  "language_info": {
   "codemirror_mode": {
    "name": "ipython",
    "version": 3
   },
   "file_extension": ".py",
   "mimetype": "text/x-python",
   "name": "python",
   "nbconvert_exporter": "python",
   "pygments_lexer": "ipython3",
   "version": "3.8.3"
  }
 },
 "nbformat": 4,
 "nbformat_minor": 2
}
